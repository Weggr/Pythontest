{
 "cells": [
  {
   "cell_type": "markdown",
   "metadata": {},
   "source": [
    "# Test individuel du 8 Février 2018 - Ecole du numérique - Programmation Python\n",
    "\n",
    "## Instructions\n",
    "\n",
    "Le test est à réaliser dans un jupyter notebook. A la fin du test vous devez le mettre sur votre compte git perso, et envoyer le lien au correcteur. Bonne chance!\n",
    "\n",
    "\n",
    "## Exercice 1\n",
    "\n",
    "Une fonction récursive est une fonction qui s'appelle elle-même. Quelque soit le langage dans lequel on la définit, il faut faire attention à bien préciser la condition d'arrêt pour que l'exécution se termine.\n",
    "\n",
    "Définir une fonction python (en mode itératif puis en mode récursif) `afficher_jusqua_0` qui prend en paramètre un nombre entier et qui afficher toutes les valeurs inférieures à ce nombre, jusqu'à `0`.\n",
    "\n",
    "**Exemple** :\n",
    "\n",
    "    >> afficher_jusqua_0_it(10)\n",
    "    \n",
    "    Affichage des nombres entiers de 10 à 0 (itératif) :\n",
    "    10\n",
    "    9\n",
    "    8\n",
    "    7\n",
    "    6\n",
    "    5\n",
    "    4\n",
    "    3\n",
    "    2\n",
    "    1\n",
    "    \n",
    "    >> afficher_jusqua_0_rec(10)\n",
    "    \n",
    "    Affichage des nombres entiers de 10 à 0 (récursif) :\n",
    "    10\n",
    "    9\n",
    "    8\n",
    "    7\n",
    "    6\n",
    "    5\n",
    "    4\n",
    "    3\n",
    "    2\n",
    "    1\n",
    " \n"
   ]
  },
  {
   "cell_type": "code",
   "execution_count": 12,
   "metadata": {},
   "outputs": [
    {
     "name": "stdout",
     "output_type": "stream",
     "text": [
      "Affichage des nombres entiers de 10 jusqu'à 0 (itératif) :\n",
      "10\n",
      "9\n",
      "8\n",
      "7\n",
      "6\n",
      "5\n",
      "4\n",
      "3\n",
      "2\n",
      "1\n"
     ]
    }
   ],
   "source": [
    "#itératif\n",
    "\n",
    "def afficher_jusqua_0_it(x):\n",
    "    print(\"Affichage des nombres entiers de %s jusqu'à 0 (itératif) :\" % x)\n",
    "    for i in range (x, 0 , -1):\n",
    "        print(i)\n",
    "\n",
    "afficher_jusqua_0_it(10)"
   ]
  },
  {
   "cell_type": "code",
   "execution_count": 26,
   "metadata": {},
   "outputs": [
    {
     "name": "stdout",
     "output_type": "stream",
     "text": [
      "Affichage des nombres entiers de 10 jusqu'à 0 (récursif) :\n",
      "10\n",
      "9\n",
      "8\n",
      "7\n",
      "6\n",
      "5\n",
      "4\n",
      "3\n",
      "2\n",
      "1\n"
     ]
    }
   ],
   "source": [
    "#récursif\n",
    "\n",
    "def afficher_jusqua_0_rec(x, y = 0):\n",
    "    if(y==0):\n",
    "        print(\"Affichage des nombres entiers de %s jusqu'à 0 (récursif) :\" % x)\n",
    "    print(x)\n",
    "    if(x>1):\n",
    "        afficher_jusqua_0_rec(x-1, 1)\n",
    "        \n",
    "\n",
    "afficher_jusqua_0_rec(10)"
   ]
  },
  {
   "cell_type": "markdown",
   "metadata": {},
   "source": [
    "## Exercice 2\n",
    "\n",
    "Ecrire une fonction qui renvoie la liste des mots d'un texte, suivi du nombre d'occurences de chacun de ces mots dans le texte.\n",
    "On supposera que le texte est contenu dans un fichier.\n",
    "\n",
    "**Exemple**\n",
    "\n",
    "Fichier :\n",
    "```\n",
    "Bonjour à toi, bonjour à moi!\n",
    "```\n",
    "\n",
    "Résultat:\n",
    "```\n",
    "bonjour : 2\n",
    "à : 2\n",
    "toi : 1\n",
    "moi : 1\n",
    "```\n"
   ]
  },
  {
   "cell_type": "code",
   "execution_count": 29,
   "metadata": {},
   "outputs": [],
   "source": [
    "fichier = open(\"TestFile.csv\", mode = 'w')\n",
    "fichier.write(\"Bonjour à toi, bonjour à moi!\\n\")\n",
    "fichier.close()"
   ]
  },
  {
   "cell_type": "code",
   "execution_count": 4,
   "metadata": {},
   "outputs": [
    {
     "name": "stdout",
     "output_type": "stream",
     "text": [
      "Fichier : \n",
      "\n",
      "   Bonjour à toi, bonjour à moi!\n",
      "\n",
      "Résultat:\n",
      "\n",
      "   à : 2\n",
      "   bonjour : 2\n",
      "   toi : 1\n",
      "   moi : 1\n"
     ]
    }
   ],
   "source": [
    "fichier = open(\"TestFile.csv\", mode = 'r')\n",
    "\n",
    "print(\"Fichier : \\n\")\n",
    "mots = ''\n",
    "for l in fichier.readlines():\n",
    "    mots = mots + l\n",
    "    \n",
    "print(\"   \" + mots)\n",
    "\n",
    "mots2 = mots.replace(\"!\", \"\").replace(\"\\n\", \"\").replace(\",\",\"\").lower()\n",
    "\n",
    "motl = mots2.split(' ')\n",
    "\n",
    "\n",
    "print(\"Résultat:\\n\")\n",
    "\n",
    "motf = set()\n",
    "\n",
    "for elem in motl :\n",
    "    i = 0\n",
    "    for elem2 in motl :\n",
    "        if elem == elem2 :\n",
    "            i = i + 1\n",
    "    elemf = elem + \" : \" + str(i)\n",
    "    motf.add(elemf)\n",
    "\n",
    "for elem in motf :\n",
    "        print(\"   \"+ elem)"
   ]
  },
  {
   "cell_type": "code",
   "execution_count": 58,
   "metadata": {},
   "outputs": [
    {
     "data": {
      "text/plain": [
       "'bonjour à toi  bonjour à moi  '"
      ]
     },
     "execution_count": 58,
     "metadata": {},
     "output_type": "execute_result"
    }
   ],
   "source": [
    "mots.replace(\"!\", \" \").replace(\"\\n\", \" \").replace(\",\",\" \").lower()"
   ]
  }
 ],
 "metadata": {
  "kernelspec": {
   "display_name": "Python 3",
   "language": "python",
   "name": "python3"
  },
  "language_info": {
   "codemirror_mode": {
    "name": "ipython",
    "version": 3
   },
   "file_extension": ".py",
   "mimetype": "text/x-python",
   "name": "python",
   "nbconvert_exporter": "python",
   "pygments_lexer": "ipython3",
   "version": "3.7.1"
  }
 },
 "nbformat": 4,
 "nbformat_minor": 2
}
